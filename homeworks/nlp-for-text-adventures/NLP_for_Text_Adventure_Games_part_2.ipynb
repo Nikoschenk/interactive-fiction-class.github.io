{
  "nbformat": 4,
  "nbformat_minor": 0,
  "metadata": {
    "colab": {
      "name": "NLP for Text Adventure Games - part 2.ipynb",
      "provenance": [],
      "collapsed_sections": []
    },
    "kernelspec": {
      "name": "python3",
      "display_name": "Python 3"
    }
  },
  "cells": [
    {
      "cell_type": "markdown",
      "metadata": {
        "id": "33h_s5CbKL1X",
        "colab_type": "text"
      },
      "source": [
        "# NLP for Text Adventure Games - part 2\n",
        "\n",
        "In this notebook, we will introduce you word embeddings.  Word embeddings are a way of representing the meaning of words using vectors.  This style of meaning representation is different than what we saw with WordNet.  Rather than manually organizing words into a hierarchy and breaking words into their distinct senses like WordNet does, word vectors are computed automatically based on their coocurrence with other words in very large collections of texts (which are called _corpora_ in NLP).  Word vector representations do not give us hypernym, hyponym or antonym relationships by default, but they do give us an extremely straightforward way of computing the similarity of two words.  Similarity is computed by comparing the vectors and computing the angle between them with cosine.  Vectors with a very small angle between them tend to correspond to words with very similar meanings.\n",
        "\n",
        "Starting around 2013, several algorithms were developed to create efficiently word vectors.  The most famous of which is the word2vec algorithm developed by researchers at Google. \n",
        "If you'd like to learn more about how word vectors, I recommend that you read the [Vector Semantics and Embeddings](https://web.stanford.edu/~jurafsky/slp3/6.pdf) in the [Speech and Language Processing textbook](https://web.stanford.edu/~jurafsky/slp3/) by Jurafsky and Martin who are currently updating the textbook and are relasing their draft chapters for free online while they are updating the book."
      ]
    },
    {
      "cell_type": "markdown",
      "metadata": {
        "id": "XZ3jYOl78D5n",
        "colab_type": "text"
      },
      "source": [
        "## Pre-trained Word Embeddings and Magnitude \n",
        "\n",
        "We are going to install a software package called Magnitude that allows for the fast efficient manipuation of word vectors.  If you'd like to learn more about it, you can read our [EMNLP 2018 paper about Magnitude](http://www.cis.upenn.edu/~ccb/publications/magnitude-fast-efficient-vector-embeddings-in-python.pdf), or you can read the [Magnitude developer documentation on Github](](https://github.com/plasticityai/magnitude)).\n",
        "\n",
        "Then, we'll download a set of pre-trained word vectors that are stored in the Magnitude file format.  This file is several gigabytes large, so it will take a few minutes to download."
      ]
    },
    {
      "cell_type": "code",
      "metadata": {
        "id": "PJD8Dzv58pts",
        "colab_type": "code",
        "colab": {}
      },
      "source": [
        "!pip3 install pymagnitude\n",
        "!wget http://magnitude.plasticity.ai/glove/heavy/glove.6B.300d.magnitude\n",
        "#!wget http://magnitude.plasticity.ai/word2vec/heavy/GoogleNews-vectors-negative300.magnitude\n",
        "\n",
        "from pymagnitude import *\n",
        "vectors = Magnitude(\"glove.6B.300d.magnitude\")\n",
        "#vectors = Magnitude(\"GoogleNews-vectors-negative300.magnitude\")"
      ],
      "execution_count": 0,
      "outputs": []
    },
    {
      "cell_type": "markdown",
      "metadata": {
        "id": "PCxPU9wO8_VD",
        "colab_type": "text"
      },
      "source": [
        "After the files have downloaded, we can start running Python and Magnitude!  We will load a set of vectors from the file that we just downloaded.<p>One the vectors are loaded, we can see how many vectors we've loaded in with this command.  This means that we have vectors representing this many words.  This is the size of our **vocabulary.**  "
      ]
    },
    {
      "cell_type": "code",
      "metadata": {
        "id": "n50qMALy-cCu",
        "colab_type": "code",
        "outputId": "e6d85641-d31d-486d-a48b-3b9a7f738480",
        "colab": {
          "base_uri": "https://localhost:8080/",
          "height": 34
        }
      },
      "source": [
        "from pymagnitude import *\n",
        "vectors = Magnitude(\"glove.6B.300d.magnitude\")\n",
        "\n",
        "print(\"The number of words with vector representations in this file is %s.\" % len(vectors))"
      ],
      "execution_count": 3,
      "outputs": [
        {
          "output_type": "stream",
          "text": [
            "The number of words with vector representations in this file is 400000.\n"
          ],
          "name": "stdout"
        }
      ]
    },
    {
      "cell_type": "markdown",
      "metadata": {
        "id": "J7AryUhFN3i5",
        "colab_type": "text"
      },
      "source": [
        "## Word Vectors\n"
      ]
    },
    {
      "cell_type": "markdown",
      "metadata": {
        "id": "8YmTdD4U9PPp",
        "colab_type": "text"
      },
      "source": [
        "We can see what the *dimensionality* of each vector is.  The dimensionality is just the length of the vector.  \n"
      ]
    },
    {
      "cell_type": "code",
      "metadata": {
        "id": "8a4zsGLG-lwQ",
        "colab_type": "code",
        "outputId": "49e28bdc-288f-4a16-da29-bf1b2338b65b",
        "colab": {
          "base_uri": "https://localhost:8080/",
          "height": 34
        }
      },
      "source": [
        "vectors.dim"
      ],
      "execution_count": 4,
      "outputs": [
        {
          "output_type": "execute_result",
          "data": {
            "text/plain": [
              "300"
            ]
          },
          "metadata": {
            "tags": []
          },
          "execution_count": 4
        }
      ]
    },
    {
      "cell_type": "markdown",
      "metadata": {
        "id": "74zamPJh9c9A",
        "colab_type": "text"
      },
      "source": [
        "We can print out what a vector look likes.  It should have a bunch of real-valued numbers (positive or negative).  The number of values that we will see is *vectors.dim*"
      ]
    },
    {
      "cell_type": "code",
      "metadata": {
        "id": "PjYcuJsS9z79",
        "colab_type": "code",
        "outputId": "d399d455-3d5c-4151-a066-17dd53dd535a",
        "colab": {
          "base_uri": "https://localhost:8080/",
          "height": 867
        }
      },
      "source": [
        "if \"troll\" in vectors:\n",
        "  print(vectors.query(\"troll\"))"
      ],
      "execution_count": 7,
      "outputs": [
        {
          "output_type": "stream",
          "text": [
            "[-0.0244411  0.0139053 -0.0925782 -0.00481   -0.05063    0.0802103\n",
            "  0.0431387  0.0066427 -0.0033448  0.045577  -0.0484613  0.0071967\n",
            " -0.0044964  0.0520721 -0.0442212 -0.0151458  0.0492292  0.0470102\n",
            "  0.0446977  0.0498603  0.0774734  0.0230924  0.0423744  0.0585978\n",
            " -0.0205354  0.0104937  0.0165054  0.0986903  0.0251441  0.0992028\n",
            " -0.0076652 -0.088784   0.0427017 -0.0448236  0.0673819  0.0090755\n",
            " -0.0025259 -0.0052761 -0.0015195  0.0118352  0.0006056  0.0918715\n",
            " -0.0879299  0.0160313 -0.0603762  0.0351043  0.0573174 -0.0273775\n",
            " -0.0387619 -0.0417181 -0.0443722  0.0006057 -0.0133144  0.0279044\n",
            " -0.0180323 -0.089854  -0.0289977  0.0308318  0.1055828  0.02625\n",
            "  0.0264209  0.0280518  0.0556217 -0.0365645  0.0046129  0.0266582\n",
            " -0.0332288 -0.033619   0.0692844 -0.0413854 -0.0542569  0.1936116\n",
            "  0.0003418  0.0223659 -0.0431944 -0.0068162  0.0140149 -0.0009213\n",
            "  0.0102707 -0.0703579  0.033281  -0.0908879  0.0688744 -0.0347897\n",
            " -0.0144963  0.0502326  0.0899547  0.0121853  0.047636  -0.1085228\n",
            " -0.0600561 -0.0588207  0.1205204  0.0087196 -0.0590347  0.1302594\n",
            "  0.0434767 -0.0285931  0.0970719  0.0616924  0.1279451 -0.0192784\n",
            " -0.0070466 -0.0464869  0.0290426  0.0337449  0.0352932 -0.0638683\n",
            " -0.0338546  0.0648788  0.0584395  0.0198395 -0.0838678  0.006471\n",
            "  0.0462891 -0.0346278 -0.0154202  0.0490583 -0.0040042  0.0928552\n",
            "  0.0507828 -0.0768764 -0.0070948 -0.0178634  0.0401717 -0.0117577\n",
            "  0.1056259  0.0339391  0.0757274 -0.0955201 -0.0021586  0.0132813\n",
            " -0.0934809  0.0457766  0.0661214 -0.0519732 -0.0281705 -0.0377711\n",
            " -0.0581716 -0.0565586  0.0846284 -0.0318406  0.0101386  0.0021203\n",
            "  0.1020421 -0.016918   0.0055981  0.1531072  0.0083503 -0.1345049\n",
            " -0.1335735  0.0635716  0.0200211 -0.034608  -0.0121484  0.0425399\n",
            "  0.0531744 -0.0675618  0.0356024 -0.0221286 -0.0648015  0.0270323\n",
            "  0.188181  -0.0304974  0.0064393  0.062302   0.0646667  0.0702483\n",
            "  0.0160908 -0.1055342 -0.0150329 -0.0965361  0.0676607 -0.0705575\n",
            "  0.0200912  0.0107113  0.0140259  0.0913411 -0.1036713  0.0214938\n",
            " -0.0649939  0.0521261  0.0634079  0.0162791  0.0679592 -0.1317735\n",
            "  0.05382   -0.0350019  0.0680131 -0.132232  -0.0392708 -0.0128019\n",
            "  0.010523   0.0245543  0.0336136  0.0319485 -0.0596587 -0.0583514\n",
            "  0.0268021 -0.0889171 -0.020343  -0.0042385  0.0876152 -0.0226231\n",
            " -0.0352158 -0.0018937 -0.0211558 -0.0277389 -0.0199959  0.0101742\n",
            " -0.0444604 -0.0139459  0.039598  -0.0771228 -0.1080535 -0.0341693\n",
            "  0.0511892  0.0972176 -0.0935043  0.0385497 -0.0461902  0.0096457\n",
            " -0.0687414 -0.0135052  0.0387511 -0.0312418 -0.1104343 -0.0206541\n",
            "  0.0210533  0.0272858  0.0094945  0.0228748 -0.0853549  0.0205336\n",
            "  0.0423762  0.0137661 -0.0270808  0.0261889 -0.0079935 -0.0482527\n",
            "  0.1006269  0.0070473 -0.0082034  0.0072602 -0.0628523 -0.0867107\n",
            " -0.0331551  0.0225691 -0.0160104  0.0759288 -0.0282784  0.0830946\n",
            " -0.0412416 -0.0204293 -0.0338061 -0.0236193  0.0459097  0.0727208\n",
            "  0.0720105 -0.0326606 -0.0162032 -0.0148828 -0.0072732 -0.0537804\n",
            " -0.0973614  0.0046579  0.0440414 -0.0993089 -0.0221591  0.0020249\n",
            "  0.0387888 -0.0582417  0.0403173 -0.0610451 -0.045649   0.0496769\n",
            "  0.0044642 -0.0464779 -0.0525217 -0.0203574 -0.1142321 -0.0401321\n",
            " -0.0123392  0.0410258 -0.0224702 -0.0074053  0.0117539  0.0962016\n",
            "  0.0068049 -0.0264173 -0.0662113 -0.0490206 -0.0894889 -0.0487203\n",
            " -0.0111098 -0.0922851  0.1212307  0.0866622  0.0275771  0.1576783]\n"
          ],
          "name": "stdout"
        }
      ]
    },
    {
      "cell_type": "markdown",
      "metadata": {
        "id": "cMcKgZeX95Bq",
        "colab_type": "text"
      },
      "source": [
        "That's what a troll looks like according to our model!  It looks just like [this](https://en.wikipedia.org/wiki/Troll_doll), right?  Well, not really, but the cool think about vectors is that they allow us to say how similar two things are.  "
      ]
    },
    {
      "cell_type": "markdown",
      "metadata": {
        "id": "gqoyJ_NgPWnj",
        "colab_type": "text"
      },
      "source": [
        "## Vector similarity\n",
        "\n",
        "Having vectors for two words allows us to see how similar they are.  We can ask, how similar are *trolls* and *ogres* versus *trolls* and *princesses*?    The result will be a decimal between 0 and 1.0, with numbers closer to 1 indicating that the words are more similar."
      ]
    },
    {
      "cell_type": "code",
      "metadata": {
        "id": "aL0lkOYd_LQX",
        "colab_type": "code",
        "outputId": "d3166179-0203-4144-f216-0af4e84a5b60",
        "colab": {
          "base_uri": "https://localhost:8080/",
          "height": 68
        }
      },
      "source": [
        "print(vectors.similarity(\"trolls\", \"ogres\"))\n",
        "print(vectors.similarity(\"trolls\", \"princesses\"))\n",
        "print(vectors.similarity(\"princes\", \"princesses\"))"
      ],
      "execution_count": 13,
      "outputs": [
        {
          "output_type": "stream",
          "text": [
            "0.6001749\n",
            "0.28430298\n",
            "0.5949442\n"
          ],
          "name": "stdout"
        }
      ]
    },
    {
      "cell_type": "markdown",
      "metadata": {
        "id": "M6vAfygxBaqJ",
        "colab_type": "text"
      },
      "source": [
        "The Magnitude software allows you to query for the most similar word out of a list of words using the command *most_similar_to_given*, which takes a query word and then a list of other words to compare it to."
      ]
    },
    {
      "cell_type": "code",
      "metadata": {
        "id": "KCosp00TBdXV",
        "colab_type": "code",
        "outputId": "f02c77df-29a6-47ff-ab2b-c850e9303310",
        "colab": {
          "base_uri": "https://localhost:8080/",
          "height": 34
        }
      },
      "source": [
        "vectors.most_similar_to_given(\"troll\", [\"princess\", \"prince\", \"ogre\", \"knight\"]) "
      ],
      "execution_count": 15,
      "outputs": [
        {
          "output_type": "execute_result",
          "data": {
            "text/plain": [
              "'ogre'"
            ]
          },
          "metadata": {
            "tags": []
          },
          "execution_count": 15
        }
      ]
    },
    {
      "cell_type": "markdown",
      "metadata": {
        "id": "7cvl7kxK_R8m",
        "colab_type": "text"
      },
      "source": [
        "## Retrieving the Most Similar Words\n",
        "\n",
        "We can also look for the word vectors that are most similar to a query word.  Here are the words that are most similar to *trolls*.  Try replacing the word *trolls* with whatever word you want, and re-running this cell (by pressing the play button again), and see what the most similar words are to the word that you entered.\n",
        "\n",
        "The Magnitude package uses an approximate k-nearest neighbors algorithm to efficiently retrieve the most similar vectors.  "
      ]
    },
    {
      "cell_type": "code",
      "metadata": {
        "id": "oRBMyflaBv3f",
        "colab_type": "code",
        "outputId": "77f7ef2d-7ca1-48eb-c93d-89c36a277dc2",
        "colab": {
          "base_uri": "https://localhost:8080/",
          "height": 357
        }
      },
      "source": [
        "vectors.most_similar_approx(\"trolls\", topn = 20)"
      ],
      "execution_count": 17,
      "outputs": [
        {
          "output_type": "execute_result",
          "data": {
            "text/plain": [
              "[('goblins', 0.6100390574368859),\n",
              " ('ogres', 0.6001749071757398),\n",
              " ('elves', 0.55979357815532),\n",
              " ('troll', 0.5146559037664176),\n",
              " ('ghouls', 0.4178171184355435),\n",
              " ('hobbits', 0.41689985629806614),\n",
              " ('centaurs', 0.41310322261340815),\n",
              " ('unicorns', 0.40355174882397904),\n",
              " ('humanoids', 0.4018230024045053),\n",
              " ('undead', 0.3909448179681192),\n",
              " ('witches', 0.3878153878952091),\n",
              " ('mermaids', 0.3858897554172245),\n",
              " ('serpents', 0.37686437645467663),\n",
              " ('genies', 0.3591981580827621),\n",
              " ('dwarfs', 0.3572682090842818),\n",
              " ('gargoyles', 0.351698249026839),\n",
              " ('demigods', 0.34777196255617326),\n",
              " ('punks', 0.3431107973310006),\n",
              " ('weirdos', 0.3332822877547912),\n",
              " ('goliath', 0.3286498431144693)]"
            ]
          },
          "metadata": {
            "tags": []
          },
          "execution_count": 17
        }
      ]
    },
    {
      "cell_type": "markdown",
      "metadata": {
        "id": "gsUxDu7d5WNo",
        "colab_type": "text"
      },
      "source": [
        "## Solving Word Analogy Problems\n",
        "\n",
        "Famously, word2vec was shown to to be able solve many word analogy problems like \"***man*** is to ***king*** as ***woman*** is to **-----**\".  It does this by performing some vector arithmetic.   We take the vector for *king*, subtract the vector for *king*, and then add the vector for *woman*:<p>+ *king* <p>- *man*<p>+ *woman*<p>The result is a vector.  To figure out what word is closest to it, we find the most similar word vectors to the vector that resulted from our arithmetic. \n",
        "\n",
        "Magnitude allows us to do this in the following way:"
      ]
    },
    {
      "cell_type": "code",
      "metadata": {
        "id": "uI2jU1_z5VGF",
        "colab_type": "code",
        "outputId": "4daad4ff-5146-42d3-fa30-0fa1fcf7da3c",
        "colab": {
          "base_uri": "https://localhost:8080/",
          "height": 187
        }
      },
      "source": [
        "vectors.most_similar(positive = [\"king\", \"woman\"], negative = [\"man\"])"
      ],
      "execution_count": 24,
      "outputs": [
        {
          "output_type": "execute_result",
          "data": {
            "text/plain": [
              "[('queen', 0.6713276),\n",
              " ('princess', 0.5432625),\n",
              " ('throne', 0.53861046),\n",
              " ('monarch', 0.53475744),\n",
              " ('daughter', 0.49802512),\n",
              " ('mother', 0.49564433),\n",
              " ('elizabeth', 0.48326522),\n",
              " ('kingdom', 0.47747076),\n",
              " ('prince', 0.46682397),\n",
              " ('wife', 0.4647327)]"
            ]
          },
          "metadata": {
            "tags": []
          },
          "execution_count": 24
        }
      ]
    },
    {
      "cell_type": "markdown",
      "metadata": {
        "id": "Bizns6809DoP",
        "colab_type": "text"
      },
      "source": [
        "These gender-based analogy problems also reveal that gender bias is encoded in word embeddings.  There was a paper that exposed this called [Man is to Computer Programmer as Woman is to Homemaker? Debiasing Word Embeddings](http://papers.nips.cc/paper/6228-man-is-to-computer-programmer-as-woman-is-to-homemaker-d).  \n",
        "\n"
      ]
    },
    {
      "cell_type": "markdown",
      "metadata": {
        "id": "Koc_QVlGTHoV",
        "colab_type": "text"
      },
      "source": [
        "## What Can You Do with a Sword?\n",
        "\n",
        "Nancy Fulda is one of our invited speakers for later in the term.  She and her co-authors wrote a research paper called [What Can You Do with a Rock? Affordance Extraction via Word Embeddings](https://www.ijcai.org/Proceedings/2017/0144.pdf) that developed an algorithm to extract verb associations for words using word embeddings.  \n",
        "\n",
        "They start with a set verb/noun pairs that are simlar to text adventure commands like:\n",
        "\n",
        "[‘sing song’, ‘drink water’, ‘read book’, ‘eat food’, wear coat’, ‘drive car’, ‘ride horse’, ‘give gift’, ‘attack enemy’, ‘say word’, ‘open door’, ‘climb tree’, ‘heal wound’, ‘cure disease’, ‘paint picture’]\n",
        "\n",
        "Their algorithm can then use this list of commands and a set of pre-trained word vectors to discover verbs associated with ‘sword’, returning the following:\n",
        "[‘vanquish’, ‘duel’, ‘unsheathe’, ‘wield’, ‘behead’, ‘battle’, ‘impale’, ‘overpower’].\n",
        "\n",
        "If you're interested, you could reimplement their method for this week's homework."
      ]
    }
  ]
}